{
 "cells": [
  {
   "cell_type": "markdown",
   "metadata": {},
   "source": [
    "# VacationPy\n",
    "----\n",
    "\n",
    "#### Note\n",
    "* Keep an eye on your API usage. Use https://developers.google.com/maps/reporting/gmp-reporting as reference for how to monitor your usage and billing.\n",
    "\n",
    "* Instructions have been included for each segment. You do not have to follow them exactly, but they are included to help you think through the steps."
   ]
  },
  {
   "cell_type": "code",
   "execution_count": 1,
   "metadata": {},
   "outputs": [],
   "source": [
    "# Dependencies and Setup\n",
    "import matplotlib.pyplot as plt\n",
    "import pandas as pd\n",
    "import numpy as np\n",
    "import requests\n",
    "import gmaps\n",
    "import os\n",
    "import csv\n",
    "\n",
    "# Import API key\n",
    "from api_keys import g_key"
   ]
  },
  {
   "cell_type": "markdown",
   "metadata": {},
   "source": [
    "### Store Part I results into DataFrame\n",
    "* Load the csv exported in Part I to a DataFrame"
   ]
  },
  {
   "cell_type": "code",
   "execution_count": 2,
   "metadata": {},
   "outputs": [],
   "source": [
    "# Set up lists to store retrieved data from Open Weather\n",
    "City_ID=[]\n",
    "City=[]\n",
    "Cloudiness=[]\n",
    "Country=[]\n",
    "Date=[]\n",
    "Humidity=[]\n",
    "Lat=[]\n",
    "Lng=[]\n",
    "MaxTemp=[]\n",
    "WindSpeed=[]"
   ]
  },
  {
   "cell_type": "code",
   "execution_count": 3,
   "metadata": {},
   "outputs": [
    {
     "name": "stdout",
     "output_type": "stream",
     "text": [
      "CSV Header: ['City_ID', 'City', 'Cloudiness', 'Country', 'Date', 'Humidity', 'Lat', 'Lng', 'Max Temp', 'Wind Speed']\n"
     ]
    },
    {
     "data": {
      "text/html": [
       "<div>\n",
       "<style scoped>\n",
       "    .dataframe tbody tr th:only-of-type {\n",
       "        vertical-align: middle;\n",
       "    }\n",
       "\n",
       "    .dataframe tbody tr th {\n",
       "        vertical-align: top;\n",
       "    }\n",
       "\n",
       "    .dataframe thead th {\n",
       "        text-align: right;\n",
       "    }\n",
       "</style>\n",
       "<table border=\"1\" class=\"dataframe\">\n",
       "  <thead>\n",
       "    <tr style=\"text-align: right;\">\n",
       "      <th></th>\n",
       "      <th>City_ID</th>\n",
       "      <th>City</th>\n",
       "      <th>Cloudiness</th>\n",
       "      <th>Country</th>\n",
       "      <th>Date</th>\n",
       "      <th>Humidity</th>\n",
       "      <th>Lat</th>\n",
       "      <th>Lng</th>\n",
       "      <th>Max Temp</th>\n",
       "      <th>Wind Speed</th>\n",
       "    </tr>\n",
       "  </thead>\n",
       "  <tbody>\n",
       "    <tr>\n",
       "      <th>0</th>\n",
       "      <td>2929567</td>\n",
       "      <td>Erlangen</td>\n",
       "      <td>40</td>\n",
       "      <td>DE</td>\n",
       "      <td>1631359685</td>\n",
       "      <td>77</td>\n",
       "      <td>49.5897</td>\n",
       "      <td>49.5897</td>\n",
       "      <td>73.09</td>\n",
       "      <td>8.05</td>\n",
       "    </tr>\n",
       "    <tr>\n",
       "      <th>1</th>\n",
       "      <td>3456944</td>\n",
       "      <td>Mongaguá</td>\n",
       "      <td>100</td>\n",
       "      <td>BR</td>\n",
       "      <td>1631359634</td>\n",
       "      <td>80</td>\n",
       "      <td>-24.0931</td>\n",
       "      <td>-24.0931</td>\n",
       "      <td>75.04</td>\n",
       "      <td>0.96</td>\n",
       "    </tr>\n",
       "    <tr>\n",
       "      <th>2</th>\n",
       "      <td>1639524</td>\n",
       "      <td>Kotabumi</td>\n",
       "      <td>94</td>\n",
       "      <td>ID</td>\n",
       "      <td>1631359687</td>\n",
       "      <td>65</td>\n",
       "      <td>-4.8333</td>\n",
       "      <td>-4.8333</td>\n",
       "      <td>83.73</td>\n",
       "      <td>7.43</td>\n",
       "    </tr>\n",
       "    <tr>\n",
       "      <th>3</th>\n",
       "      <td>5091273</td>\n",
       "      <td>Plaistow</td>\n",
       "      <td>1</td>\n",
       "      <td>US</td>\n",
       "      <td>1631359687</td>\n",
       "      <td>91</td>\n",
       "      <td>42.8365</td>\n",
       "      <td>42.8365</td>\n",
       "      <td>56.75</td>\n",
       "      <td>1.01</td>\n",
       "    </tr>\n",
       "    <tr>\n",
       "      <th>4</th>\n",
       "      <td>3194792</td>\n",
       "      <td>Mozirje</td>\n",
       "      <td>13</td>\n",
       "      <td>SI</td>\n",
       "      <td>1631359688</td>\n",
       "      <td>52</td>\n",
       "      <td>46.3394</td>\n",
       "      <td>46.3394</td>\n",
       "      <td>78.49</td>\n",
       "      <td>2.42</td>\n",
       "    </tr>\n",
       "    <tr>\n",
       "      <th>...</th>\n",
       "      <td>...</td>\n",
       "      <td>...</td>\n",
       "      <td>...</td>\n",
       "      <td>...</td>\n",
       "      <td>...</td>\n",
       "      <td>...</td>\n",
       "      <td>...</td>\n",
       "      <td>...</td>\n",
       "      <td>...</td>\n",
       "      <td>...</td>\n",
       "    </tr>\n",
       "    <tr>\n",
       "      <th>569</th>\n",
       "      <td>1216311</td>\n",
       "      <td>Qarshi</td>\n",
       "      <td>0</td>\n",
       "      <td>UZ</td>\n",
       "      <td>1631360337</td>\n",
       "      <td>13</td>\n",
       "      <td>38.8667</td>\n",
       "      <td>38.8667</td>\n",
       "      <td>82.22</td>\n",
       "      <td>11.5</td>\n",
       "    </tr>\n",
       "    <tr>\n",
       "      <th>570</th>\n",
       "      <td>3130124</td>\n",
       "      <td>Amurrio</td>\n",
       "      <td>84</td>\n",
       "      <td>ES</td>\n",
       "      <td>1631360337</td>\n",
       "      <td>50</td>\n",
       "      <td>43.05</td>\n",
       "      <td>43.05</td>\n",
       "      <td>85.86</td>\n",
       "      <td>1.39</td>\n",
       "    </tr>\n",
       "    <tr>\n",
       "      <th>571</th>\n",
       "      <td>4388402</td>\n",
       "      <td>Grain Valley</td>\n",
       "      <td>1</td>\n",
       "      <td>US</td>\n",
       "      <td>1631360339</td>\n",
       "      <td>75</td>\n",
       "      <td>39.015</td>\n",
       "      <td>39.015</td>\n",
       "      <td>72.64</td>\n",
       "      <td>10.36</td>\n",
       "    </tr>\n",
       "    <tr>\n",
       "      <th>572</th>\n",
       "      <td>3198354</td>\n",
       "      <td>Kanal</td>\n",
       "      <td>31</td>\n",
       "      <td>SI</td>\n",
       "      <td>1631360340</td>\n",
       "      <td>38</td>\n",
       "      <td>46.0886</td>\n",
       "      <td>46.0886</td>\n",
       "      <td>84.31</td>\n",
       "      <td>3</td>\n",
       "    </tr>\n",
       "    <tr>\n",
       "      <th>573</th>\n",
       "      <td>2656173</td>\n",
       "      <td>Bath</td>\n",
       "      <td>89</td>\n",
       "      <td>GB</td>\n",
       "      <td>1631360341</td>\n",
       "      <td>75</td>\n",
       "      <td>51.3779</td>\n",
       "      <td>51.3779</td>\n",
       "      <td>71.87</td>\n",
       "      <td>12.57</td>\n",
       "    </tr>\n",
       "  </tbody>\n",
       "</table>\n",
       "<p>574 rows × 10 columns</p>\n",
       "</div>"
      ],
      "text/plain": [
       "     City_ID          City Cloudiness Country        Date Humidity       Lat  \\\n",
       "0    2929567      Erlangen         40      DE  1631359685       77   49.5897   \n",
       "1    3456944      Mongaguá        100      BR  1631359634       80  -24.0931   \n",
       "2    1639524      Kotabumi         94      ID  1631359687       65   -4.8333   \n",
       "3    5091273      Plaistow          1      US  1631359687       91   42.8365   \n",
       "4    3194792       Mozirje         13      SI  1631359688       52   46.3394   \n",
       "..       ...           ...        ...     ...         ...      ...       ...   \n",
       "569  1216311        Qarshi          0      UZ  1631360337       13   38.8667   \n",
       "570  3130124       Amurrio         84      ES  1631360337       50     43.05   \n",
       "571  4388402  Grain Valley          1      US  1631360339       75    39.015   \n",
       "572  3198354         Kanal         31      SI  1631360340       38   46.0886   \n",
       "573  2656173          Bath         89      GB  1631360341       75   51.3779   \n",
       "\n",
       "          Lng Max Temp Wind Speed  \n",
       "0     49.5897    73.09       8.05  \n",
       "1    -24.0931    75.04       0.96  \n",
       "2     -4.8333    83.73       7.43  \n",
       "3     42.8365    56.75       1.01  \n",
       "4     46.3394    78.49       2.42  \n",
       "..        ...      ...        ...  \n",
       "569   38.8667    82.22       11.5  \n",
       "570     43.05    85.86       1.39  \n",
       "571    39.015    72.64      10.36  \n",
       "572   46.0886    84.31          3  \n",
       "573   51.3779    71.87      12.57  \n",
       "\n",
       "[574 rows x 10 columns]"
      ]
     },
     "execution_count": 3,
     "metadata": {},
     "output_type": "execute_result"
    }
   ],
   "source": [
    "#  [\"City_ID\",\"City\",\"Cloudiness\",\"Country\",\"Date\",\"Humidity\",\"Lat\",\"Lng\",\"Max Temp\",\"Wind Speed\"]\n",
    "# Open the CSV\n",
    "# Set path for file\n",
    "csvpath = os.path.join(\"Resources\",\"cities.csv\")\n",
    "#print(csvpath)\n",
    "with open(csvpath,\"r\",encoding='utf-8') as csvfile:\n",
    "    csvreader = csv.reader(csvfile, delimiter=\",\")\n",
    "    csv_header = next(csvreader)\n",
    "    print(f\"CSV Header: {csv_header}\")\n",
    "    csvreader = csv.reader(csvfile, delimiter=\",\")\n",
    "    cnt=0\n",
    "    for row in csvreader:\n",
    "        City_ID.append(row[0])\n",
    "        City.append(row[1])\n",
    "        Cloudiness.append(row[2])\n",
    "        Country.append(row[3])\n",
    "        Date.append(row[4])\n",
    "        Humidity.append(row[5])\n",
    "        Lat.append(row[6])\n",
    "        Lng.append(row[7])\n",
    "        MaxTemp.append(row[8])\n",
    "        WindSpeed.append(row[9])\n",
    "cities_data =zip(City_ID,City,Cloudiness,Country,Date,Humidity,Lat,Lng,MaxTemp,WindSpeed)\n",
    "cities_data_df = pd.DataFrame(cities_data, columns=(\"City_ID\",\"City\",\"Cloudiness\",\"Country\",\"Date\",\"Humidity\",\"Lat\",\"Lng\",\"Max Temp\",\"Wind Speed\"))     \n",
    "cities_data_df\n",
    "        "
   ]
  },
  {
   "cell_type": "markdown",
   "metadata": {},
   "source": [
    "### Humidity Heatmap\n",
    "* Configure gmaps.\n",
    "* Use the Lat and Lng as locations and Humidity as the weight.\n",
    "* Add Heatmap layer to map."
   ]
  },
  {
   "cell_type": "code",
   "execution_count": 4,
   "metadata": {},
   "outputs": [
    {
     "data": {
      "text/plain": [
       "Lat   -54.2811\n",
       "Lng   -54.2811\n",
       "dtype: float64"
      ]
     },
     "execution_count": 4,
     "metadata": {},
     "output_type": "execute_result"
    }
   ],
   "source": [
    "# Configure gmaps\n",
    "gmaps.configure(api_key=g_key)\n",
    "locations = cities_data_df[[\"Lat\", \"Lng\"]].astype(float)\n",
    "humidity = cities_data_df[\"Humidity\"].astype(float)\n",
    "locations.min()"
   ]
  },
  {
   "cell_type": "code",
   "execution_count": 5,
   "metadata": {},
   "outputs": [
    {
     "data": {
      "application/vnd.jupyter.widget-view+json": {
       "model_id": "7f4cfeb265c84c58bdf4df3267e80103",
       "version_major": 2,
       "version_minor": 0
      },
      "text/plain": [
       "Figure(layout=FigureLayout(height='420px'))"
      ]
     },
     "metadata": {},
     "output_type": "display_data"
    }
   ],
   "source": [
    "# Plot Heatmap\n",
    "fig = gmaps.figure()\n",
    "\n",
    "# Create heat layer\n",
    "heat_layer = gmaps.heatmap_layer(locations, weights=humidity,\n",
    "                                 dissipating=False, max_intensity=10,\n",
    "                                 point_radius=1)\n",
    "# Add layer\n",
    "fig.add_layer(heat_layer)\n",
    "\n",
    "# Display figure\n",
    "fig"
   ]
  },
  {
   "cell_type": "markdown",
   "metadata": {},
   "source": [
    "### Create new DataFrame fitting weather criteria\n",
    "* Narrow down the cities to fit weather conditions.\n",
    "* Drop any rows will null values."
   ]
  },
  {
   "cell_type": "code",
   "execution_count": null,
   "metadata": {},
   "outputs": [],
   "source": []
  },
  {
   "cell_type": "markdown",
   "metadata": {},
   "source": [
    "### Hotel Map\n",
    "* Store into variable named `hotel_df`.\n",
    "* Add a \"Hotel Name\" column to the DataFrame.\n",
    "* Set parameters to search for hotels with 5000 meters.\n",
    "* Hit the Google Places API for each city's coordinates.\n",
    "* Store the first Hotel result into the DataFrame.\n",
    "* Plot markers on top of the heatmap."
   ]
  },
  {
   "cell_type": "code",
   "execution_count": null,
   "metadata": {},
   "outputs": [],
   "source": []
  },
  {
   "cell_type": "code",
   "execution_count": null,
   "metadata": {},
   "outputs": [],
   "source": []
  },
  {
   "cell_type": "code",
   "execution_count": null,
   "metadata": {},
   "outputs": [],
   "source": [
    "# NOTE: Do not change any of the code in this cell\n",
    "\n",
    "# Using the template add the hotel marks to the heatmap\n",
    "info_box_template = \"\"\"\n",
    "<dl>\n",
    "<dt>Name</dt><dd>{Hotel Name}</dd>\n",
    "<dt>City</dt><dd>{City}</dd>\n",
    "<dt>Country</dt><dd>{Country}</dd>\n",
    "</dl>\n",
    "\"\"\"\n",
    "# Store the DataFrame Row\n",
    "# NOTE: be sure to update with your DataFrame name\n",
    "hotel_info = [info_box_template.format(**row) for index, row in hotel_df.iterrows()]\n",
    "locations = hotel_df[[\"Lat\", \"Lng\"]]"
   ]
  },
  {
   "cell_type": "code",
   "execution_count": null,
   "metadata": {},
   "outputs": [],
   "source": [
    "# Add marker layer ontop of heat map\n",
    "\n",
    "\n",
    "# Display figure\n"
   ]
  },
  {
   "cell_type": "code",
   "execution_count": null,
   "metadata": {},
   "outputs": [],
   "source": []
  }
 ],
 "metadata": {
  "kernelspec": {
   "display_name": "Python 3",
   "language": "python",
   "name": "python3"
  },
  "language_info": {
   "codemirror_mode": {
    "name": "ipython",
    "version": 3
   },
   "file_extension": ".py",
   "mimetype": "text/x-python",
   "name": "python",
   "nbconvert_exporter": "python",
   "pygments_lexer": "ipython3",
   "version": "3.8.8"
  },
  "latex_envs": {
   "LaTeX_envs_menu_present": true,
   "autoclose": false,
   "autocomplete": true,
   "bibliofile": "biblio.bib",
   "cite_by": "apalike",
   "current_citInitial": 1,
   "eqLabelWithNumbers": true,
   "eqNumInitial": 1,
   "hotkeys": {
    "equation": "Ctrl-E",
    "itemize": "Ctrl-I"
   },
   "labels_anchors": false,
   "latex_user_defs": false,
   "report_style_numbering": false,
   "user_envs_cfg": false
  }
 },
 "nbformat": 4,
 "nbformat_minor": 4
}
